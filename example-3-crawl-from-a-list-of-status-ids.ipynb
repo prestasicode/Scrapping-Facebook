{
 "cells": [
  {
   "cell_type": "code",
   "execution_count": 1,
   "metadata": {
    "collapsed": true
   },
   "outputs": [],
   "source": [
    "import FacebookStatusScraper as fss"
   ]
  },
  {
   "cell_type": "markdown",
   "metadata": {},
   "source": [
    "##### We already have a list of status_ids that we want to scrape (the status_ids are from *TheStraitsTimes* facebook page)."
   ]
  },
  {
   "cell_type": "code",
   "execution_count": 2,
   "metadata": {
    "collapsed": true
   },
   "outputs": [],
   "source": [
    "app_id        = '434555696749605'                   \n",
    "app_secret    = '097e4b7be85e9025178efcb5e7fe6840'\n",
    "access_token  = app_id + '|' + app_secret\n",
    "page_id       = 'TheStraitsTimes_ListOfStatusIDs' # You can name it *anything*, even \"mickey mouse\""
   ]
  },
  {
   "cell_type": "code",
   "execution_count": 3,
   "metadata": {
    "collapsed": true
   },
   "outputs": [],
   "source": [
    "list_of_status_ids = \"\"\"\n",
    "    129011692114_10153011518257115\n",
    "    129011692114_10153011517612115\n",
    "    129011692114_10153011422462115\n",
    "\"\"\"\n",
    "\n",
    "list_of_status_ids = \"\"\"\n",
    "    125845680811480_1260769963985707\n",
    "\"\"\""
   ]
  },
  {
   "cell_type": "markdown",
   "metadata": {},
   "source": [
    "##### Preprocess the list of status_ids"
   ]
  },
  {
   "cell_type": "code",
   "execution_count": 4,
   "metadata": {
    "collapsed": true
   },
   "outputs": [],
   "source": [
    "list_of_status_ids = [x.strip() for x in list_of_status_ids.split()]"
   ]
  },
  {
   "cell_type": "markdown",
   "metadata": {},
   "source": [
    "# Start!"
   ]
  },
  {
   "cell_type": "code",
   "execution_count": 5,
   "metadata": {
    "collapsed": false
   },
   "outputs": [
    {
     "name": "stdout",
     "output_type": "stream",
     "text": [
      "Scraping \"TheStraitsTimes_ListOfStatusIDs\" Facebook Page (normal mode): 2016-11-11 12:32:13.068298\n",
      "\n",
      "\u001b[33m{\"reactions_wow\": {\"data\": [], \"summary\": {\"total_count\": 94, \"viewer_reaction\": \"NONE\"}}, \"reactions_love\": {\"data\": [], \"summary\": {\"total_count\": 192, \"viewer_reaction\": \"NONE\"}}, \"reactions_like\": {\"data\": [], \"summary\": {\"total_count\": 6429, \"viewer_reaction\": \"NONE\"}}, \"comments\": {\"paging\": {\"cursors\": {\"after\": \"NDgZD\", \"before\": \"OTcZD\"}, \"next\": \"https://graph.facebook.com/v2.6/125845680811480_1260769963985707/comments?access_token=434555696749605%7C097e4b7be85e9025178efcb5e7fe6840&summary=true&limit=50&after=NDgZD\"}, \"data\": [{\"created_time\": \"2016-11-10T14:00:12+0000\", \"message\": \"This is one big step to a digital economy, for a smart nation to stay competitive in new business model. Building and training our people with right skillset in this industry is crucial to keep our economy vibrant.\", \"from\": {\"name\": \"Wentian Lian\", \"id\": \"1076402775723281\"}, \"id\": \"1260769963985707_1260789840650386\"}, {\"created_time\": \"2016-11-10T14:30:18+0000\", \"message\": \"Thanks PM Lee for coming to visit us in this big day for Google, it's been exciting and inspiring. We have come a long way in the last 10+ years and are proud to have grown in this little Red Dot!\", \"from\": {\"name\": \"Gil Gaeta\", \"id\": \"10157787877635441\"}, \"id\": \"1260769963985707_1260867957309241\"}, {\"created_time\": \"2016-11-10T14:05:33+0000\", \"message\": \"Sir, please do something for taxi drivers, we are suffering really badly. There are too many grab and uber in Singapore causing us to not earn enough for our families\", \"from\": {\"name\": \"Winson Low\", \"id\": \"642899825879677\"}, \"id\": \"1260769963985707_1260800543982649\"}, {\"created_time\": \"2016-11-10T14:05:01+0000\", \"message\": \"I simply love the Google Technology.\\nI used them everyday without fail.\", \"from\": {\"name\": \"Mary Adele Ng\", \"id\": \"950880198333345\"}, \"id\": \"1260769963985707_1260799363982767\"}, {\"created_time\": \"2016-11-10T13:55:01+0000\", \"message\": \"Did you drop by their pantry, Mr Lee? I heard it's like the land of Willy Wonka \\ud83d\\ude01\", \"from\": {\"name\": \"Tarnin Thamrin\", \"id\": \"1132887003418573\"}, \"id\": \"1260769963985707_1260780470651323\"}, {\"created_time\": \"2016-11-10T17:12:51+0000\", \"message\": \"Just got excited reading the news earlier today! I \\u2764Google\\u2763\\u2763\", \"from\": {\"name\": \"Donn Chin\", \"id\": \"1065019706874036\"}, \"id\": \"1260769963985707_1261095853953118\"}, {\"created_time\": \"2016-11-10T14:48:14+0000\", \"message\": \"Pl don't show this to trump...\", \"from\": {\"name\": \"Alex Han\", \"id\": \"10208831696763924\"}, \"id\": \"1260769963985707_1260963193966384\"}, {\"created_time\": \"2016-11-10T14:13:39+0000\", \"message\": \"May they find many opportunities here to expand their expert services to the Internet communities in this region.\", \"from\": {\"name\": \"Vincent Chong\", \"id\": \"1609997749303936\"}, \"id\": \"1260769963985707_1260819393980764\"}, {\"created_time\": \"2016-11-10T22:25:52+0000\", \"message\": \"Thank you for setting up office here. But please stay out of Singapore internal domestic affairs.\", \"from\": {\"name\": \"Botak Lim\", \"id\": \"10209874867481646\"}, \"id\": \"1260769963985707_1261315290597841\"}, {\"created_time\": \"2016-11-10T15:54:27+0000\", \"message\": \"If the TPP cannot be ratified and if Trump institutionalise a new tax regime - this could be short lived.\", \"from\": {\"name\": \"Tony Ong\", \"id\": \"10209275049645924\"}, \"id\": \"1260769963985707_1261042703958433\"}, {\"created_time\": \"2016-11-10T16:56:57+0000\", \"message\": \"The average age of employees in this company does not seems to align with the aged population.\", \"from\": {\"name\": \"Otaku House\", \"id\": \"1770977079836176\"}, \"id\": \"1260769963985707_1261086000620770\"}, {\"created_time\": \"2016-11-10T15:04:43+0000\", \"message\": \"That's is great I'm so happy for them! Especially since their new name Alphabet came from me! So congrats to Larry and the team on their growth and expansion!\", \"from\": {\"name\": \"Antonio Lee\", \"id\": \"501215346654841\"}, \"id\": \"1260769963985707_1261001267295910\"}, {\"created_time\": \"2016-11-10T16:00:46+0000\", \"message\": \"This is an important milestone for Singapore.\", \"from\": {\"name\": \"Kilo Tami\", \"id\": \"1035729689888155\"}, \"id\": \"1260769963985707_1261048127291224\"}, {\"created_time\": \"2016-11-10T14:46:16+0000\", \"message\": \"It's a strategic decision for Google to open an office in Singapore. It's good for both Google and Singapore.\", \"from\": {\"name\": \"Peter Ha\", \"id\": \"375896139419834\"}, \"id\": \"1260769963985707_1260951587300878\"}, {\"created_time\": \"2016-11-10T13:50:49+0000\", \"message\": \"\", \"from\": {\"name\": \"Noorol Huda Abbas\", \"id\": \"10208092607459070\"}, \"id\": \"1260769963985707_1260774363985267\"}, {\"created_time\": \"2016-11-10T13:49:43+0000\", \"message\": \"Thank you Mr Lee\", \"from\": {\"name\": \"Jeffery Han\", \"id\": \"1675047116105985\"}, \"id\": \"1260769963985707_1260773773985326\"}, {\"created_time\": \"2016-11-10T14:58:26+0000\", \"message\": \"I was there, PM Lee! Great to see you looking well!\", \"from\": {\"name\": \"Julia d'Silva\", \"id\": \"532770806883772\"}, \"id\": \"1260769963985707_1260995487296488\"}, {\"created_time\": \"2016-11-10T15:56:24+0000\", \"message\": \"\", \"from\": {\"name\": \"Adeline SH Chua\", \"id\": \"652182024922167\"}, \"id\": \"1260769963985707_1261044307291606\"}, {\"created_time\": \"2016-11-10T22:26:05+0000\", \"message\": \"\", \"from\": {\"name\": \"Eddy Wong\", \"id\": \"532745340268083\"}, \"id\": \"1260769963985707_1261315363931167\"}, {\"created_time\": \"2016-11-10T15:04:14+0000\", \"message\": \"Thank u for sharing Sir.\", \"from\": {\"name\": \"Phang Carol\", \"id\": \"1219901611404054\"}, \"id\": \"1260769963985707_1261000947295942\"}, {\"created_time\": \"2016-11-10T15:08:35+0000\", \"message\": \"\\\"I left my heart in San Francisco,\\\"\", \"from\": {\"name\": \"Lee Su Min\", \"id\": \"10211754982655938\"}, \"id\": \"1260769963985707_1261004457295591\"}, {\"created_time\": \"2016-11-10T17:44:03+0000\", \"message\": \"finally! =) let's make this happen\", \"from\": {\"name\": \"Fajar Siddiq\", \"id\": \"10154627365486763\"}, \"id\": \"1260769963985707_1261118557284181\"}, {\"created_time\": \"2016-11-10T18:13:23+0000\", \"message\": \"It's great honour to be a part of a. Future\", \"from\": {\"name\": \"Mohammed Rafi\", \"id\": \"1328838023815432\"}, \"id\": \"1260769963985707_1261135303949173\"}, {\"created_time\": \"2016-11-10T14:11:45+0000\", \"message\": \"Deirdre Chew part of a 1 min video! Achievement unlocked. \\ud83d\\ude04\", \"from\": {\"name\": \"Seng Kai Ling\", \"id\": \"1017350301662239\"}, \"id\": \"1260769963985707_1260815310647839\"}, {\"created_time\": \"2016-11-10T13:55:24+0000\", \"message\": \"Good!\", \"from\": {\"name\": \"Steven Chew\", \"id\": \"10203923835496449\"}, \"id\": \"1260769963985707_1260780747317962\"}, {\"created_time\": \"2016-11-10T17:53:21+0000\", \"message\": \"And then DT say we steal their jobs...\", \"from\": {\"name\": \"Mingli Lin\", \"id\": \"10156427171045215\"}, \"id\": \"1260769963985707_1261124317283605\"}, {\"created_time\": \"2016-11-10T14:20:27+0000\", \"message\": \"\", \"from\": {\"name\": \"Ashraf Ali\", \"id\": \"716062891877929\"}, \"id\": \"1260769963985707_1260837313978972\"}, {\"created_time\": \"2016-11-10T14:20:25+0000\", \"message\": \"\", \"from\": {\"name\": \"Ashraf Ali\", \"id\": \"716062891877929\"}, \"id\": \"1260769963985707_1260837150645655\"}, {\"created_time\": \"2016-11-10T14:34:20+0000\", \"message\": \"always..best\", \"from\": {\"name\": \"Nikita Basnet\", \"id\": \"407191199670089\"}, \"id\": \"1260769963985707_1260883093974394\"}, {\"created_time\": \"2016-11-10T16:45:32+0000\", \"message\": \"Kin Lung Tai ure in the video, go and find ureself lol\", \"from\": {\"name\": \"Nash Raj\", \"id\": \"10154234784299403\"}, \"id\": \"1260769963985707_1261079503954753\"}, {\"created_time\": \"2016-11-10T21:38:03+0000\", \"message\": \"SG is smaller\", \"from\": {\"name\": \"Darren Tay\", \"id\": \"10154568678693902\"}, \"id\": \"1260769963985707_1261285217267515\"}, {\"created_time\": \"2016-11-10T15:21:41+0000\", \"message\": \"Raj Grover were you there?\", \"from\": {\"name\": \"Priya Patel\", \"id\": \"10153894812827027\"}, \"id\": \"1260769963985707_1261013483961355\"}, {\"created_time\": \"2016-11-10T14:38:05+0000\", \"message\": \"\\ud83d\\udc4d\", \"from\": {\"name\": \"Vincent Low\", \"id\": \"625570817615769\"}, \"id\": \"1260769963985707_1260906977305339\"}, {\"created_time\": \"2016-11-10T17:33:46+0000\", \"message\": \"Ha Lam Tu Quynh \\u1ee7a v\\u1eady ch\\u1ecb c\\u00f3 chuy\\u1ec3n ch\\u1ed5 l\\u00e0m qua tr\\u1ee5 s\\u1edf m\\u1edbi c\\u1ee7a GG \\u1edf Pasir Pajang kh\\u00f4ng ch\\u1ecb ?\", \"from\": {\"name\": \"\\u0110\\u1eadu Ti\\u1ebfn \\u0110\\u1ea1t\", \"id\": \"1333546656655991\"}, \"id\": \"1260769963985707_1261110050618365\"}, {\"created_time\": \"2016-11-10T19:34:18+0000\", \"message\": \"Thank you for wooing them to work closely with us '-)\", \"from\": {\"name\": \"Jen Lim C H\", \"id\": \"10210361202403110\"}, \"id\": \"1260769963985707_1261207610608609\"}, {\"created_time\": \"2016-11-10T18:19:37+0000\", \"message\": \"Syed Afzal Hasan Uddin - you missed PM Lee Hsien Loong!\", \"from\": {\"name\": \"Ellis Uddin\", \"id\": \"10155465239094488\"}, \"id\": \"1260769963985707_1261138243948879\"}, {\"created_time\": \"2016-11-11T00:49:10+0000\", \"message\": \"A great honor for Singapore\", \"from\": {\"name\": \"John Timothy Driscoll\", \"id\": \"10154454078348572\"}, \"id\": \"1260769963985707_1261472313915472\"}, {\"created_time\": \"2016-11-10T17:10:46+0000\", \"message\": \"Claire Goh Annabel Yeo Jiaxin Ang it was today ah. Our neighbour\", \"from\": {\"name\": \"Rasyidah AR\", \"id\": \"10154624730761054\"}, \"id\": \"1260769963985707_1261094283953275\"}, {\"created_time\": \"2016-11-11T00:40:34+0000\", \"message\": \"Elen Winata got your stuff?\", \"from\": {\"name\": \"XuNing Zhao\", \"id\": \"10155383591732802\"}, \"id\": \"1260769963985707_1261468290582541\"}, {\"created_time\": \"2016-11-11T03:36:23+0000\", \"message\": \"Minh Han wowwwwwwwwwwwwwwwwwwww\", \"from\": {\"name\": \"Minh Hien\", \"id\": \"10206186304615187\"}, \"id\": \"1260769963985707_1261552107240826\"}, {\"created_time\": \"2016-11-10T15:09:29+0000\", \"message\": \"Bessy Tam have you been? :o\", \"from\": {\"name\": \"Ben Kjel Tang\", \"id\": \"10153896744106160\"}, \"id\": \"1260769963985707_1261005750628795\"}, {\"created_time\": \"2016-11-11T00:19:11+0000\", \"message\": \"Gooooooooogle XianHui Huang XianYun Huang\", \"from\": {\"name\": \"XianYong Huang\", \"id\": \"10154704333029313\"}, \"id\": \"1260769963985707_1261456657250371\"}, {\"created_time\": \"2016-11-10T14:00:08+0000\", \"message\": \"Low Zhi Bin cool!\", \"from\": {\"name\": \"Lim Hui Ting\", \"id\": \"10154483609414535\"}, \"id\": \"1260769963985707_1260789757317061\"}, {\"created_time\": \"2016-11-10T15:29:02+0000\", \"message\": \"\", \"from\": {\"name\": \"Guns Roses\", \"id\": \"119653288515041\"}, \"id\": \"1260769963985707_1261021177293919\"}, {\"created_time\": \"2016-11-10T14:18:49+0000\", \"message\": \"\", \"from\": {\"name\": \"Kyaw Myint Oo\", \"id\": \"278570419205886\"}, \"id\": \"1260769963985707_1260833140646056\"}, {\"created_time\": \"2016-11-10T17:54:39+0000\", \"message\": \"\", \"from\": {\"name\": \"Khong Yong Lee\", \"id\": \"217987831962121\"}, \"id\": \"1260769963985707_1261125070616863\"}, {\"created_time\": \"2016-11-10T17:54:33+0000\", \"message\": \"\", \"from\": {\"name\": \"Khong Yong Lee\", \"id\": \"217987831962121\"}, \"id\": \"1260769963985707_1261125027283534\"}, {\"created_time\": \"2016-11-11T01:00:48+0000\", \"message\": \"\", \"from\": {\"name\": \"Chingyun  Andytan\", \"id\": \"1837971023139998\"}, \"id\": \"1260769963985707_1261477677248269\"}, {\"created_time\": \"2016-11-10T23:13:51+0000\", \"message\": \"\", \"from\": {\"name\": \"Simonng Pohheng\", \"id\": \"463442700511473\"}, \"id\": \"1260769963985707_1261336470595723\"}, {\"created_time\": \"2016-11-11T02:14:15+0000\", \"message\": \"\", \"from\": {\"name\": \"Rungtham Thamsoontorn\", \"id\": \"906512732797524\"}, \"id\": \"1260769963985707_1261517757244261\"}], \"summary\": {\"total_count\": 97, \"can_comment\": false, \"order\": \"ranked\"}}, \"shares\": {\"count\": 530}, \"reactions_sad\": {\"data\": [], \"summary\": {\"total_count\": 0, \"viewer_reaction\": \"NONE\"}}, \"reactions_haha\": {\"data\": [], \"summary\": {\"total_count\": 10, \"viewer_reaction\": \"NONE\"}}, \"link\": \"https://www.facebook.com/leehsienloong/videos/1260769963985707/\", \"likes\": {\"paging\": {\"cursors\": {\"after\": \"MTAyMDgxMDI0MjQ0NjQyOTAZD\", \"before\": \"MTAyMDgxMDI0MjQ0NjQyOTAZD\"}, \"next\": \"https://graph.facebook.com/v2.6/125845680811480_1260769963985707/likes?access_token=434555696749605%7C097e4b7be85e9025178efcb5e7fe6840&summary=true&limit=1&after=MTAyMDgxMDI0MjQ0NjQyOTAZD\"}, \"data\": [{\"id\": \"10208102424464290\", \"name\": \"Claire Ong\"}], \"summary\": {\"total_count\": 6429, \"has_liked\": false, \"can_like\": false}}, \"created_time\": \"2016-11-10T13:46:06+0000\", \"message\": \"Toured the new Google campus at the launch of their new Asia Pacific headquarters in Singapore this morning. I\\u2019ve been to their headquarters in California (bit.ly/2fnG6vC), and I think they\\u2019ve managed to bring a bit of Silicon Valley to Singapore! \\u2013 LHL\\n\\n(PMO Video by Alex Qiu and Chiez How)\", \"type\": \"video\", \"id\": \"125845680811480_1260769963985707\", \"reactions_angry\": {\"data\": [], \"summary\": {\"total_count\": 1, \"viewer_reaction\": \"NONE\"}}}\u001b[0m\n",
      "\n",
      "Done!\n",
      "1 Statuses Processed in 0:01:48.817145\n"
     ]
    }
   ],
   "source": [
    "fss.scrape_fb_page_feed_status(page_id, access_token, list_of_status_ids=list_of_status_ids)"
   ]
  },
  {
   "cell_type": "markdown",
   "metadata": {
    "collapsed": true
   },
   "source": [
    "##### Check the \"output\" folder for the CSV file \"TheStraitsTimes_ListOfStatusIDs_2016-01-18_211313_fb_page_feed.csv\""
   ]
  }
 ],
 "metadata": {
  "kernelspec": {
   "display_name": "Python [default]",
   "language": "python",
   "name": "python2"
  },
  "language_info": {
   "codemirror_mode": {
    "name": "ipython",
    "version": 2
   },
   "file_extension": ".py",
   "mimetype": "text/x-python",
   "name": "python",
   "nbconvert_exporter": "python",
   "pygments_lexer": "ipython2",
   "version": "2.7.12"
  }
 },
 "nbformat": 4,
 "nbformat_minor": 0
}
